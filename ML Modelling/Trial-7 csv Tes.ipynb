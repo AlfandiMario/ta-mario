{
 "cells": [
  {
   "cell_type": "markdown",
   "metadata": {},
   "source": [
    "Persis Trial-5 tapi datanya dari CSV"
   ]
  },
  {
   "cell_type": "markdown",
   "metadata": {},
   "source": [
    "#### Import Library"
   ]
  },
  {
   "cell_type": "code",
   "execution_count": 1,
   "metadata": {},
   "outputs": [],
   "source": [
    "from datetime import datetime, timedelta\n",
    "import pandas as pd\n",
    "import numpy as np\n",
    "from sklearn.preprocessing import MinMaxScaler\n",
    "from tensorflow.keras.models import load_model\n",
    "import matplotlib.pyplot as plt\n",
    "\n",
    "import random"
   ]
  },
  {
   "cell_type": "markdown",
   "metadata": {},
   "source": [
    "#### N_step dan Nama Model Plot"
   ]
  },
  {
   "cell_type": "code",
   "execution_count": 14,
   "metadata": {},
   "outputs": [
    {
     "name": "stdout",
     "output_type": "stream",
     "text": [
      "Model: \"sequential_175\"\n",
      "____________________________________________________________________________\n",
      " Layer (type)                Output Shape              Param #   Trainable  \n",
      "============================================================================\n",
      " lstm_525 (LSTM)             (None, 7, 128)            66560     Y          \n",
      "                                                                            \n",
      " dropout_350 (Dropout)       (None, 7, 128)            0         Y          \n",
      "                                                                            \n",
      " lstm_526 (LSTM)             (None, 7, 64)             49408     Y          \n",
      "                                                                            \n",
      " dropout_351 (Dropout)       (None, 7, 64)             0         Y          \n",
      "                                                                            \n",
      " lstm_527 (LSTM)             (None, 16)                5184      Y          \n",
      "                                                                            \n",
      " dense_175 (Dense)           (None, 1)                 17        Y          \n",
      "                                                                            \n",
      "============================================================================\n",
      "Total params: 121169 (473.32 KB)\n",
      "Trainable params: 121169 (473.32 KB)\n",
      "Non-trainable params: 0 (0.00 Byte)\n",
      "____________________________________________________________________________\n",
      "None\n"
     ]
    }
   ],
   "source": [
    "# Konfigurasi Waktu dan unit_steps\n",
    "n_steps = 7\n",
    "modelLastDate = '27 Mar'\n",
    "plotDate = '28-3 Apr'\n",
    "modelName = 'T7_n'+str(n_steps)+'_' + modelLastDate + '.h5'\n",
    "plotName = 'T7_n'+str(n_steps)+'_'+plotDate+'.jpg'\n",
    "lossPlot = 'T7_loss_'+modelLastDate+'.jpg'\n",
    "\n",
    "test_start = '2024-03-28'\n",
    "test_end = '2024-04-03'\n",
    "\n",
    "model = load_model('model/'+modelName)\n",
    "print(model.summary(expand_nested=True, show_trainable=True))\n"
   ]
  },
  {
   "cell_type": "markdown",
   "metadata": {},
   "source": [
    "#### Getting Data"
   ]
  },
  {
   "cell_type": "code",
   "execution_count": 62,
   "metadata": {},
   "outputs": [
    {
     "data": {
      "text/html": [
       "<div>\n",
       "<style scoped>\n",
       "    .dataframe tbody tr th:only-of-type {\n",
       "        vertical-align: middle;\n",
       "    }\n",
       "\n",
       "    .dataframe tbody tr th {\n",
       "        vertical-align: top;\n",
       "    }\n",
       "\n",
       "    .dataframe thead th {\n",
       "        text-align: right;\n",
       "    }\n",
       "</style>\n",
       "<table border=\"1\" class=\"dataframe\">\n",
       "  <thead>\n",
       "    <tr style=\"text-align: right;\">\n",
       "      <th></th>\n",
       "      <th>date</th>\n",
       "      <th>real</th>\n",
       "    </tr>\n",
       "  </thead>\n",
       "  <tbody>\n",
       "    <tr>\n",
       "      <th>87</th>\n",
       "      <td>2024-03-28</td>\n",
       "      <td>12150</td>\n",
       "    </tr>\n",
       "    <tr>\n",
       "      <th>88</th>\n",
       "      <td>2024-03-29</td>\n",
       "      <td>12630</td>\n",
       "    </tr>\n",
       "    <tr>\n",
       "      <th>89</th>\n",
       "      <td>2024-03-30</td>\n",
       "      <td>260</td>\n",
       "    </tr>\n",
       "    <tr>\n",
       "      <th>90</th>\n",
       "      <td>2024-03-31</td>\n",
       "      <td>220</td>\n",
       "    </tr>\n",
       "    <tr>\n",
       "      <th>91</th>\n",
       "      <td>2024-04-01</td>\n",
       "      <td>8470</td>\n",
       "    </tr>\n",
       "    <tr>\n",
       "      <th>92</th>\n",
       "      <td>2024-04-02</td>\n",
       "      <td>9880</td>\n",
       "    </tr>\n",
       "    <tr>\n",
       "      <th>93</th>\n",
       "      <td>2024-04-03</td>\n",
       "      <td>13070</td>\n",
       "    </tr>\n",
       "    <tr>\n",
       "      <th>94</th>\n",
       "      <td>2024-04-04</td>\n",
       "      <td>10280</td>\n",
       "    </tr>\n",
       "    <tr>\n",
       "      <th>95</th>\n",
       "      <td>2024-04-05</td>\n",
       "      <td>10660</td>\n",
       "    </tr>\n",
       "    <tr>\n",
       "      <th>96</th>\n",
       "      <td>2024-04-06</td>\n",
       "      <td>250</td>\n",
       "    </tr>\n",
       "    <tr>\n",
       "      <th>97</th>\n",
       "      <td>2024-04-07</td>\n",
       "      <td>220</td>\n",
       "    </tr>\n",
       "    <tr>\n",
       "      <th>98</th>\n",
       "      <td>2024-04-08</td>\n",
       "      <td>8210</td>\n",
       "    </tr>\n",
       "    <tr>\n",
       "      <th>99</th>\n",
       "      <td>2024-04-09</td>\n",
       "      <td>9520</td>\n",
       "    </tr>\n",
       "    <tr>\n",
       "      <th>100</th>\n",
       "      <td>2024-04-10</td>\n",
       "      <td>12500</td>\n",
       "    </tr>\n",
       "    <tr>\n",
       "      <th>101</th>\n",
       "      <td>2024-04-11</td>\n",
       "      <td>10070</td>\n",
       "    </tr>\n",
       "  </tbody>\n",
       "</table>\n",
       "</div>"
      ],
      "text/plain": [
       "           date   real\n",
       "87   2024-03-28  12150\n",
       "88   2024-03-29  12630\n",
       "89   2024-03-30    260\n",
       "90   2024-03-31    220\n",
       "91   2024-04-01   8470\n",
       "92   2024-04-02   9880\n",
       "93   2024-04-03  13070\n",
       "94   2024-04-04  10280\n",
       "95   2024-04-05  10660\n",
       "96   2024-04-06    250\n",
       "97   2024-04-07    220\n",
       "98   2024-04-08   8210\n",
       "99   2024-04-09   9520\n",
       "100  2024-04-10  12500\n",
       "101  2024-04-11  10070"
      ]
     },
     "execution_count": 62,
     "metadata": {},
     "output_type": "execute_result"
    }
   ],
   "source": [
    "# Read data from CSV file\n",
    "csv_file_path = 'data/real-1mei.csv'\n",
    "data = pd.read_csv(csv_file_path, sep=';')\n",
    "\n",
    "# Convert date strings to datetime objects\n",
    "data['date'] = pd.to_datetime(data['date'], format='%Y-%m-%d').dt.date\n",
    "\n",
    "test_start_date = datetime.strptime(test_start, '%Y-%m-%d').date()\n",
    "test_end_date = datetime.strptime(test_end, '%Y-%m-%d').date()\n",
    "\n",
    "train_data = data[data['date'] < test_start_date]\n",
    "lenTrain = len(train_data)\n",
    "test_data = data[lenTrain:lenTrain+15]\n",
    "test_data\n"
   ]
  },
  {
   "cell_type": "markdown",
   "metadata": {},
   "source": [
    "#### Data Splitting"
   ]
  },
  {
   "cell_type": "code",
   "execution_count": 63,
   "metadata": {},
   "outputs": [],
   "source": [
    "train_energies = train_data['real'].values.reshape(-1, 1)\n",
    "test_energies = test_data['real'].values.reshape(-1, 1)"
   ]
  },
  {
   "cell_type": "markdown",
   "metadata": {},
   "source": [
    "#### Normalize the data"
   ]
  },
  {
   "cell_type": "code",
   "execution_count": 64,
   "metadata": {},
   "outputs": [],
   "source": [
    "scaler = MinMaxScaler()\n",
    "train_data_normalized = scaler.fit_transform(train_energies)\n",
    "test_data_normalized = scaler.transform(test_energies)"
   ]
  },
  {
   "cell_type": "code",
   "execution_count": 65,
   "metadata": {},
   "outputs": [],
   "source": [
    "# Prepare the data for LSTM\n",
    "def prepare_data(data, n_steps):\n",
    "    X, y = [], []\n",
    "    for i in range(len(data)):\n",
    "        end_ix = i + n_steps\n",
    "        if end_ix > len(data)-1:\n",
    "            break\n",
    "        seq_x, seq_y = data[i:end_ix], data[end_ix]\n",
    "        X.append(seq_x)\n",
    "        y.append(seq_y)\n",
    "    return np.array(X), np.array(y)"
   ]
  },
  {
   "cell_type": "code",
   "execution_count": 66,
   "metadata": {},
   "outputs": [],
   "source": [
    "X_train, y_train = prepare_data(train_data_normalized, n_steps)\n",
    "X_test, y_test = prepare_data(test_data_normalized, n_steps)\n",
    "X_train = X_train.reshape((X_train.shape[0], X_train.shape[1], 1))\n",
    "X_test = X_test.reshape((X_test.shape[0], X_test.shape[1], 1))"
   ]
  },
  {
   "cell_type": "markdown",
   "metadata": {},
   "source": [
    "#### Load Model"
   ]
  },
  {
   "cell_type": "code",
   "execution_count": 67,
   "metadata": {},
   "outputs": [
    {
     "name": "stdout",
     "output_type": "stream",
     "text": [
      "Model: \"sequential_175\"\n",
      "_________________________________________________________________\n",
      " Layer (type)                Output Shape              Param #   \n",
      "=================================================================\n",
      " lstm_525 (LSTM)             (None, 7, 128)            66560     \n",
      "                                                                 \n",
      " dropout_350 (Dropout)       (None, 7, 128)            0         \n",
      "                                                                 \n",
      " lstm_526 (LSTM)             (None, 7, 64)             49408     \n",
      "                                                                 \n",
      " dropout_351 (Dropout)       (None, 7, 64)             0         \n",
      "                                                                 \n",
      " lstm_527 (LSTM)             (None, 16)                5184      \n",
      "                                                                 \n",
      " dense_175 (Dense)           (None, 1)                 17        \n",
      "                                                                 \n",
      "=================================================================\n",
      "Total params: 121169 (473.32 KB)\n",
      "Trainable params: 121169 (473.32 KB)\n",
      "Non-trainable params: 0 (0.00 Byte)\n",
      "_________________________________________________________________\n",
      "None\n"
     ]
    }
   ],
   "source": [
    "model = load_model(\"model/\" + modelName)\n",
    "print(model.summary())"
   ]
  },
  {
   "cell_type": "markdown",
   "metadata": {},
   "source": [
    "#### Evaluate the Model"
   ]
  },
  {
   "cell_type": "code",
   "execution_count": 68,
   "metadata": {},
   "outputs": [],
   "source": [
    "test_energies = test_energies[:-8]\n",
    "date_test = test_data['date'][:-8]"
   ]
  },
  {
   "cell_type": "markdown",
   "metadata": {},
   "source": [
    "#### Make Prediction"
   ]
  },
  {
   "cell_type": "code",
   "execution_count": 69,
   "metadata": {},
   "outputs": [
    {
     "data": {
      "text/plain": [
       "[array([0.8601729], dtype=float32),\n",
       " array([0.94226813], dtype=float32),\n",
       " array([-0.036298], dtype=float32),\n",
       " array([0.0129778], dtype=float32),\n",
       " array([0.663113], dtype=float32),\n",
       " array([0.7731284], dtype=float32),\n",
       " array([0.88346153], dtype=float32)]"
      ]
     },
     "execution_count": 69,
     "metadata": {},
     "output_type": "execute_result"
    }
   ],
   "source": [
    "predictions = []\n",
    "current_batch = train_data_normalized[-n_steps:].reshape((1, n_steps, 1))\n",
    "\n",
    "for _ in range(len(test_energies)):\n",
    "    current_pred = model.predict(current_batch, verbose=0)[0]\n",
    "    predictions.append(current_pred)\n",
    "    current_batch = np.append(current_batch[:, 1:, :], [[current_pred]], axis=1)\n",
    "\n",
    "predictions"
   ]
  },
  {
   "cell_type": "code",
   "execution_count": 70,
   "metadata": {},
   "outputs": [
    {
     "data": {
      "text/plain": [
       "array([[11598.69],\n",
       "       [12685.63],\n",
       "       [  250.  ],\n",
       "       [  250.  ],\n",
       "       [ 8989.62],\n",
       "       [10446.22],\n",
       "       [11907.03]])"
      ]
     },
     "execution_count": 70,
     "metadata": {},
     "output_type": "execute_result"
    }
   ],
   "source": [
    "predictions = scaler.inverse_transform(predictions)\n",
    "predictions = np.round(predictions,2)\n",
    "for i in range (len(predictions)):\n",
    "    # if predictions[i] < 0 :\n",
    "    #     predictions[i] =+ 240.00\n",
    "    if predictions[i] < 2000:\n",
    "        predictions[i] = 250 #atau random.randint(250, 300)\n",
    "\n",
    "# Define a lambda function to format numbers with ',' as the decimal separator\n",
    "custom_format = lambda x: f'{x:.8f}'.replace('.', ',')\n",
    "\n",
    "# Convert the array to a string with ',' as the decimal separator\n",
    "formatted_predictions = '\\n'.join([','.join(map(lambda x: f'{x:.8f}'.replace('.', ','), row)) for row in predictions])\n",
    "\n",
    "# Save the formatted predictions to a text file\n",
    "with open('predictions.txt', 'w') as file:\n",
    "    file.write(formatted_predictions)\n",
    "predictions"
   ]
  },
  {
   "cell_type": "markdown",
   "metadata": {},
   "source": [
    "#### Calculate Error"
   ]
  },
  {
   "cell_type": "code",
   "execution_count": 71,
   "metadata": {},
   "outputs": [
    {
     "name": "stdout",
     "output_type": "stream",
     "text": [
      "[12150, 12630, 260, 220, 8470, 9880, 13070]\n",
      "[11598.69, 12685.63, 250.0, 250.0, 8989.62, 10446.22, 11907.03]\n",
      "--------------------\n",
      "MAE: 413.68\n",
      "MAPE: 6.17%\n",
      "RMSE: 567.09\n"
     ]
    }
   ],
   "source": [
    "def calculate_mape(actual, predicted, epsilon=1e-10):\n",
    "    mape = np.mean(np.abs((actual - predicted) / (actual + epsilon))) * 100\n",
    "    return mape\n",
    "def calculate_rmse(actual, predicted):\n",
    "    return np.sqrt(np.mean((actual - predicted)**2))\n",
    "def calculate_mae(actual, predicted):\n",
    "    return np.mean(np.abs(actual - predicted))\n",
    "\n",
    "mape = calculate_mape(test_energies, predictions)\n",
    "mae = calculate_mae(test_energies, predictions)\n",
    "rmse = calculate_rmse(test_energies, predictions)\n",
    "\n",
    "print(test_energies.flatten().tolist())\n",
    "print(np.array(predictions).flatten().tolist())\n",
    "print(\"--------------------\")\n",
    "print(f\"MAE: {mae:.2f}\")\n",
    "print(f\"MAPE: {mape:.2f}%\")\n",
    "print(f\"RMSE: {rmse:.2f}\")"
   ]
  },
  {
   "cell_type": "markdown",
   "metadata": {},
   "source": [
    "### Plotting Result"
   ]
  },
  {
   "cell_type": "code",
   "execution_count": 72,
   "metadata": {},
   "outputs": [
    {
     "data": {
      "image/png": "[encoded data removed]",
      "text/plain": [
       "<Figure size 826.772x354.331 with 1 Axes>"
      ]
     },
     "metadata": {},
     "output_type": "display_data"
    }
   ],
   "source": [
    "x,y = [21,9]\n",
    "\n",
    "# Plot the results\n",
    "plt.figure(figsize=(x/2.54, y/2.54))\n",
    "plt.plot(date_test, test_energies.flatten(), label='Asli', linewidth=2, marker='x', markersize=12)\n",
    "plt.plot(date_test, predictions, label='Prediksi', linewidth=3, linestyle='--', marker='.', markersize=15)\n",
    "# plt.title('Realita vs Prediksi Energi Harian '+plotDate)\n",
    "plt.xlabel('Tanggal')\n",
    "plt.ylabel('Energi (Wh)')\n",
    "plt.legend()\n",
    "plt.savefig('plot/'+plotName, bbox_inches='tight')\n",
    "plt.show()"
   ]
  },
  {
   "cell_type": "code",
   "execution_count": 73,
   "metadata": {},
   "outputs": [],
   "source": [
    "# plt.figure(figsize=(12.8, 5.4))\n",
    "# plt.plot(dates, energies, label='Asli', linewidth=1, marker='x', markersize=12)\n",
    "# plt.plot(newDateTest, predictions, label='Prediksi', linewidth=2, linestyle='--', marker='.', markersize=14)\n",
    "# plt.title('Realita vs Prediksi Energi Harian')\n",
    "# plt.xlabel('Tanggal')\n",
    "# plt.ylabel('Energi (Wh)')\n",
    "# plt.legend()\n",
    "# plt.show()"
   ]
  }
 ],
 "metadata": {
  "kernelspec": {
   "display_name": "venv",
   "language": "python",
   "name": "python3"
  },
  "language_info": {
   "codemirror_mode": {
    "name": "ipython",
    "version": 3
   },
   "file_extension": ".py",
   "mimetype": "text/x-python",
   "name": "python",
   "nbconvert_exporter": "python",
   "pygments_lexer": "ipython3",
   "version": "3.10.7"
  }
 },
 "nbformat": 4,
 "nbformat_minor": 2
}

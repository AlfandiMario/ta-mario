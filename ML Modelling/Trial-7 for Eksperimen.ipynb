{
 "cells": [
  {
   "cell_type": "markdown",
   "metadata": {},
   "source": [
    "Persis Trial-5 tapi pola datanya baru"
   ]
  },
  {
   "cell_type": "markdown",
   "metadata": {},
   "source": [
    "### Import Library"
   ]
  },
  {
   "cell_type": "code",
   "execution_count": 62,
   "metadata": {},
   "outputs": [],
   "source": [
    "from datetime import datetime, timedelta, date\n",
    "import pandas as pd\n",
    "import numpy as np\n",
    "from sklearn.preprocessing import MinMaxScaler\n",
    "from tensorflow.keras.models import Sequential\n",
    "from tensorflow.keras.layers import LSTM, Dense, Dropout\n",
    "import requests\n",
    "import matplotlib.pyplot as plt\n",
    "import os"
   ]
  },
  {
   "cell_type": "markdown",
   "metadata": {},
   "source": [
    "### Function"
   ]
  },
  {
   "cell_type": "code",
   "execution_count": 63,
   "metadata": {},
   "outputs": [],
   "source": [
    "def prepare_data(data, n_steps):\n",
    "    X, y = [], []\n",
    "    for i in range(len(data) - n_steps):\n",
    "        X.append(data[i:(i + n_steps), 0])\n",
    "        y.append(data[i + n_steps, 0])\n",
    "    return np.array(X), np.array(y)\n",
    "\n",
    "def calculate_mape(actual, predicted):\n",
    "    return np.mean(np.abs((actual - predicted) / actual)) * 100\n",
    "\n",
    "def calculate_rmse(actual, predicted):\n",
    "    return np.sqrt(np.mean((actual - predicted)**2))\n",
    "\n",
    "def calculate_mae(actual, predicted):\n",
    "    return np.mean(np.abs(actual - predicted))"
   ]
  },
  {
   "cell_type": "code",
   "execution_count": 64,
   "metadata": {},
   "outputs": [],
   "source": [
    "def run_experiment(csv_file_path, test_periods, timesteps_range):\n",
    "    data = pd.read_csv(csv_file_path, sep=';')\n",
    "    data['date'] = pd.to_datetime(data['date'], format='%Y-%m-%d').dt.date\n",
    "    \n",
    "    results = []\n",
    "\n",
    "    for test_start, test_end in test_periods:\n",
    "        for n_steps in range(timesteps_range[0], timesteps_range[1] + 1):\n",
    "            print(f\"Running experiment for test period {test_start} to {test_end}, timestep: {n_steps}\")\n",
    "            \n",
    "            test_start_date = datetime.strptime(test_start, '%Y-%m-%d').date()\n",
    "            test_end_date = datetime.strptime(test_end, '%Y-%m-%d').date()\n",
    "            \n",
    "            train_data = data[data['date'] < test_start_date]\n",
    "            lenTrain = len(train_data)\n",
    "            test_data = data[lenTrain:lenTrain+15]\n",
    "            # test_data = data[(data['date'] >= test_start_date) & (data['date'] <= test_end_date)]\n",
    "            \n",
    "            train_energies = train_data['real'].values.reshape(-1, 1)\n",
    "            test_energies = test_data['real'].values.reshape(-1, 1)\n",
    "            \n",
    "            scaler = MinMaxScaler()\n",
    "            train_data_normalized = scaler.fit_transform(train_energies)\n",
    "            test_data_normalized = scaler.transform(test_energies)\n",
    "            \n",
    "            X_train, y_train = prepare_data(train_data_normalized, n_steps)\n",
    "            X_test, y_test = prepare_data(test_data_normalized, n_steps)\n",
    "            X_train = X_train.reshape((X_train.shape[0], X_train.shape[1], 1))\n",
    "            X_test = X_test.reshape((X_test.shape[0], X_test.shape[1], 1))\n",
    "            \n",
    "            model = Sequential([\n",
    "                LSTM(128, activation='relu', return_sequences=True, input_shape=(n_steps, 1)),\n",
    "                Dropout(0.1),\n",
    "                LSTM(64, activation='relu', return_sequences=True),\n",
    "                Dropout(0.1),\n",
    "                LSTM(16, activation='relu'),\n",
    "                Dense(1)\n",
    "            ])\n",
    "            model.compile(optimizer='adam', loss='mse')\n",
    "            \n",
    "            history = model.fit(X_train, y_train, epochs=200, verbose=0, validation_data=(X_test, y_test))\n",
    "            \n",
    "            model_name = f'Eksp_T{n_steps}_{test_end}.h5'\n",
    "            model.save(os.path.join('model', model_name))\n",
    "\n",
    "            test_energies = test_energies[:-8]\n",
    "            date_test = test_data['date'][:-8]\n",
    "            \n",
    "            predictions = []\n",
    "            current_batch = train_data_normalized[-n_steps:].reshape((1, n_steps, 1))\n",
    "            \n",
    "            for _ in range(len(test_energies)):\n",
    "                current_pred = model.predict(current_batch, verbose=0)[0]\n",
    "                predictions.append(current_pred)\n",
    "                current_batch = np.append(current_batch[:, 1:, :], [[current_pred]], axis=1)\n",
    "            \n",
    "            predictions = scaler.inverse_transform(predictions)\n",
    "            predictions = np.clip(predictions, 300, None)\n",
    "            \n",
    "            mape = calculate_mape(test_energies, predictions)\n",
    "            mae = calculate_mae(test_energies, predictions)\n",
    "            rmse = calculate_rmse(test_energies, predictions)\n",
    "            \n",
    "            plt.figure(figsize=(12, 6))\n",
    "            plt.plot(date_test, test_energies, label='Asli')\n",
    "            plt.plot(date_test, predictions, label='Prediksi')\n",
    "            plt.title(f'Hasil Prediksi (Timestep: {n_steps}, Periode Test: {test_start} s.d {test_end}, MAPE: {mape:.2f})')\n",
    "            plt.xlabel('Tanggal')\n",
    "            plt.ylabel('Energi (Wh)')\n",
    "            plt.legend()\n",
    "            plt.xticks(rotation=30)\n",
    "            plt.tight_layout()\n",
    "            plot_name = f'Eksp_T{n_steps}_{test_end}.png'\n",
    "            plt.savefig(os.path.join('plot', plot_name))\n",
    "            plt.close()\n",
    "            \n",
    "            results.append({\n",
    "                'test_period': f\"{test_start} to {test_end}\",\n",
    "                'timestep': n_steps,\n",
    "                'mape': mape,\n",
    "                'mae': mae,\n",
    "                'rmse': rmse,\n",
    "                'model_name': model_name,\n",
    "                'plot_name': plot_name\n",
    "            })\n",
    "    \n",
    "    return results"
   ]
  },
  {
   "cell_type": "markdown",
   "metadata": {},
   "source": [
    "### Main"
   ]
  },
  {
   "cell_type": "code",
   "execution_count": 65,
   "metadata": {},
   "outputs": [
    {
     "name": "stdout",
     "output_type": "stream",
     "text": [
      "Running experiment for test period 2024-03-28 to 2024-04-03, timestep: 6\n"
     ]
    },
    {
     "name": "stderr",
     "output_type": "stream",
     "text": [
      "e:\\SMT 8\\Trying\\LSTM\\venv\\lib\\site-packages\\keras\\src\\engine\\training.py:3103: UserWarning: You are saving your model as an HDF5 file via `model.save()`. This file format is considered legacy. We recommend using instead the native Keras format, e.g. `model.save('my_model.keras')`.\n",
      "  saving_api.save_model(\n"
     ]
    },
    {
     "name": "stdout",
     "output_type": "stream",
     "text": [
      "Running experiment for test period 2024-03-28 to 2024-04-03, timestep: 7\n"
     ]
    },
    {
     "name": "stderr",
     "output_type": "stream",
     "text": [
      "e:\\SMT 8\\Trying\\LSTM\\venv\\lib\\site-packages\\keras\\src\\engine\\training.py:3103: UserWarning: You are saving your model as an HDF5 file via `model.save()`. This file format is considered legacy. We recommend using instead the native Keras format, e.g. `model.save('my_model.keras')`.\n",
      "  saving_api.save_model(\n"
     ]
    },
    {
     "name": "stdout",
     "output_type": "stream",
     "text": [
      "Running experiment for test period 2024-03-28 to 2024-04-03, timestep: 8\n"
     ]
    },
    {
     "name": "stderr",
     "output_type": "stream",
     "text": [
      "e:\\SMT 8\\Trying\\LSTM\\venv\\lib\\site-packages\\keras\\src\\engine\\training.py:3103: UserWarning: You are saving your model as an HDF5 file via `model.save()`. This file format is considered legacy. We recommend using instead the native Keras format, e.g. `model.save('my_model.keras')`.\n",
      "  saving_api.save_model(\n"
     ]
    },
    {
     "name": "stdout",
     "output_type": "stream",
     "text": [
      "Running experiment for test period 2024-03-28 to 2024-04-03, timestep: 9\n"
     ]
    },
    {
     "name": "stderr",
     "output_type": "stream",
     "text": [
      "e:\\SMT 8\\Trying\\LSTM\\venv\\lib\\site-packages\\keras\\src\\engine\\training.py:3103: UserWarning: You are saving your model as an HDF5 file via `model.save()`. This file format is considered legacy. We recommend using instead the native Keras format, e.g. `model.save('my_model.keras')`.\n",
      "  saving_api.save_model(\n"
     ]
    },
    {
     "name": "stdout",
     "output_type": "stream",
     "text": [
      "Running experiment for test period 2024-03-28 to 2024-04-03, timestep: 10\n"
     ]
    },
    {
     "name": "stderr",
     "output_type": "stream",
     "text": [
      "e:\\SMT 8\\Trying\\LSTM\\venv\\lib\\site-packages\\keras\\src\\engine\\training.py:3103: UserWarning: You are saving your model as an HDF5 file via `model.save()`. This file format is considered legacy. We recommend using instead the native Keras format, e.g. `model.save('my_model.keras')`.\n",
      "  saving_api.save_model(\n"
     ]
    },
    {
     "name": "stdout",
     "output_type": "stream",
     "text": [
      "Running experiment for test period 2024-03-28 to 2024-04-03, timestep: 11\n"
     ]
    },
    {
     "name": "stderr",
     "output_type": "stream",
     "text": [
      "e:\\SMT 8\\Trying\\LSTM\\venv\\lib\\site-packages\\keras\\src\\engine\\training.py:3103: UserWarning: You are saving your model as an HDF5 file via `model.save()`. This file format is considered legacy. We recommend using instead the native Keras format, e.g. `model.save('my_model.keras')`.\n",
      "  saving_api.save_model(\n"
     ]
    },
    {
     "name": "stdout",
     "output_type": "stream",
     "text": [
      "Running experiment for test period 2024-03-28 to 2024-04-03, timestep: 12\n"
     ]
    },
    {
     "name": "stderr",
     "output_type": "stream",
     "text": [
      "e:\\SMT 8\\Trying\\LSTM\\venv\\lib\\site-packages\\keras\\src\\engine\\training.py:3103: UserWarning: You are saving your model as an HDF5 file via `model.save()`. This file format is considered legacy. We recommend using instead the native Keras format, e.g. `model.save('my_model.keras')`.\n",
      "  saving_api.save_model(\n"
     ]
    },
    {
     "name": "stdout",
     "output_type": "stream",
     "text": [
      "Running experiment for test period 2024-03-28 to 2024-04-03, timestep: 13\n"
     ]
    },
    {
     "name": "stderr",
     "output_type": "stream",
     "text": [
      "e:\\SMT 8\\Trying\\LSTM\\venv\\lib\\site-packages\\keras\\src\\engine\\training.py:3103: UserWarning: You are saving your model as an HDF5 file via `model.save()`. This file format is considered legacy. We recommend using instead the native Keras format, e.g. `model.save('my_model.keras')`.\n",
      "  saving_api.save_model(\n"
     ]
    },
    {
     "name": "stdout",
     "output_type": "stream",
     "text": [
      "Running experiment for test period 2024-03-28 to 2024-04-03, timestep: 14\n"
     ]
    },
    {
     "name": "stderr",
     "output_type": "stream",
     "text": [
      "e:\\SMT 8\\Trying\\LSTM\\venv\\lib\\site-packages\\keras\\src\\engine\\training.py:3103: UserWarning: You are saving your model as an HDF5 file via `model.save()`. This file format is considered legacy. We recommend using instead the native Keras format, e.g. `model.save('my_model.keras')`.\n",
      "  saving_api.save_model(\n"
     ]
    },
    {
     "name": "stdout",
     "output_type": "stream",
     "text": [
      "Test Period: 2024-03-28 to 2024-04-03\n",
      "Timestep: 6\n",
      "MAPE: 100.99%\n",
      "MAE: 1808.61\n",
      "Model saved as: Eksp_T6_2024-04-03.h5\n",
      "Plot saved as: Eksp_T6_2024-04-03.png\n",
      "---\n",
      "Test Period: 2024-03-28 to 2024-04-03\n",
      "Timestep: 7\n",
      "MAPE: 16.38%\n",
      "MAE: 436.80\n",
      "Model saved as: Eksp_T7_2024-04-03.h5\n",
      "Plot saved as: Eksp_T7_2024-04-03.png\n",
      "---\n",
      "Test Period: 2024-03-28 to 2024-04-03\n",
      "Timestep: 8\n",
      "MAPE: 96.65%\n",
      "MAE: 891.01\n",
      "Model saved as: Eksp_T8_2024-04-03.h5\n",
      "Plot saved as: Eksp_T8_2024-04-03.png\n",
      "---\n",
      "Test Period: 2024-03-28 to 2024-04-03\n",
      "Timestep: 9\n",
      "MAPE: 16.06%\n",
      "MAE: 943.72\n",
      "Model saved as: Eksp_T9_2024-04-03.h5\n",
      "Plot saved as: Eksp_T9_2024-04-03.png\n",
      "---\n",
      "Test Period: 2024-03-28 to 2024-04-03\n",
      "Timestep: 10\n",
      "MAPE: 93.27%\n",
      "MAE: 1153.69\n",
      "Model saved as: Eksp_T10_2024-04-03.h5\n",
      "Plot saved as: Eksp_T10_2024-04-03.png\n",
      "---\n",
      "Test Period: 2024-03-28 to 2024-04-03\n",
      "Timestep: 11\n",
      "MAPE: 75.20%\n",
      "MAE: 680.99\n",
      "Model saved as: Eksp_T11_2024-04-03.h5\n",
      "Plot saved as: Eksp_T11_2024-04-03.png\n",
      "---\n",
      "Test Period: 2024-03-28 to 2024-04-03\n",
      "Timestep: 12\n",
      "MAPE: 64.49%\n",
      "MAE: 1802.60\n",
      "Model saved as: Eksp_T12_2024-04-03.h5\n",
      "Plot saved as: Eksp_T12_2024-04-03.png\n",
      "---\n",
      "Test Period: 2024-03-28 to 2024-04-03\n",
      "Timestep: 13\n",
      "MAPE: 220.86%\n",
      "MAE: 3512.97\n",
      "Model saved as: Eksp_T13_2024-04-03.h5\n",
      "Plot saved as: Eksp_T13_2024-04-03.png\n",
      "---\n",
      "Test Period: 2024-03-28 to 2024-04-03\n",
      "Timestep: 14\n",
      "MAPE: 14.71%\n",
      "MAE: 789.27\n",
      "Model saved as: Eksp_T14_2024-04-03.h5\n",
      "Plot saved as: Eksp_T14_2024-04-03.png\n",
      "---\n",
      "Results saved to experiment_results.csv\n"
     ]
    }
   ],
   "source": [
    "# Main execution\n",
    "csv_file_path = 'data/real-2mei.csv'\n",
    "test_periods = [\n",
    "    # ('2024-02-29', '2024-03-06'),\n",
    "    ('2024-03-28', '2024-04-03'),\n",
    "    # ('2024-04-18', '2024-04-24')\n",
    "]\n",
    "timesteps_range = (6, 14)\n",
    "\n",
    "# Ensure directories exist\n",
    "os.makedirs('model', exist_ok=True)\n",
    "os.makedirs('plot', exist_ok=True)\n",
    "\n",
    "results = run_experiment(csv_file_path, test_periods, timesteps_range)\n",
    "\n",
    "# Print results\n",
    "for result in results:\n",
    "    print(f\"Test Period: {result['test_period']}\")\n",
    "    print(f\"Timestep: {result['timestep']}\")\n",
    "    print(f\"MAPE: {result['mape']:.2f}%\")\n",
    "    print(f\"MAE: {result['mae']:.2f}\")\n",
    "    print(f\"Model saved as: {result['model_name']}\")\n",
    "    print(f\"Plot saved as: {result['plot_name']}\")\n",
    "    print(\"---\")\n",
    "\n",
    "# Optional: Save results to CSV\n",
    "results_df = pd.DataFrame(results)\n",
    "results_df.to_csv('Eksp Timestep.csv', index=False)\n",
    "print(\"Results saved to experiment_results.csv\")"
   ]
  },
  {
   "cell_type": "code",
   "execution_count": 70,
   "metadata": {},
   "outputs": [],
   "source": [
    "df = pd.read_csv('Eksp Timestep.csv')\n",
    "\n",
    "result = df[df['test_period'] == '2024-03-28 to 2024-04-03']['mape']\n",
    "result2 = df[df['test_period'] == '2024-04-18 to 2024-04-24']['mape']\n",
    "\n",
    "# Define a lambda function to format numbers with ',' as the decimal separator\n",
    "custom_format = lambda x: f'{x:.2f}'.replace('.', ',') + '%'# Apply the formatting to the filtered dataframe\n",
    "formatted_mape = result.apply(custom_format)\n",
    "formatted_mape2 = result2.apply(custom_format)\n",
    "\n",
    "# Save the formatted mape values to a text file\n",
    "output_path = 'mape.txt'\n",
    "with open(output_path, 'w') as file:\n",
    "    file.write('\\n'.join(formatted_mape))\n",
    "    file.write('\\n')\n",
    "    file.write('\\n'.join(formatted_mape2))"
   ]
  },
  {
   "cell_type": "code",
   "execution_count": 69,
   "metadata": {},
   "outputs": [],
   "source": [
    "df = pd.read_csv('Eksp Timestep.csv')\n",
    "\n",
    "result = df[df['test_period'] == '2024-03-28 to 2024-04-03']['rmse']\n",
    "result2 = df[df['test_period'] == '2024-04-18 to 2024-04-24']['rmse']\n",
    "\n",
    "# Define a lambda function to format numbers with ',' as the decimal separator\n",
    "custom_format = lambda x: f'{x:.2f}'.replace('.', ',')# Apply the formatting to the filtered dataframe\n",
    "formatted_mape = result.apply(custom_format)\n",
    "formatted_mape2 = result2.apply(custom_format)\n",
    "\n",
    "# Save the formatted mape values to a text file\n",
    "output_path = 'rmse.txt'\n",
    "with open(output_path, 'w') as file:\n",
    "    file.write('\\n'.join(formatted_mape))\n",
    "    # file.write('\\n')\n",
    "    # file.write('\\n'.join(formatted_mape2))"
   ]
  }
 ],
 "metadata": {
  "kernelspec": {
   "display_name": "venv",
   "language": "python",
   "name": "python3"
  },
  "language_info": {
   "codemirror_mode": {
    "name": "ipython",
    "version": 3
   },
   "file_extension": ".py",
   "mimetype": "text/x-python",
   "name": "python",
   "nbconvert_exporter": "python",
   "pygments_lexer": "ipython3",
   "version": "3.10.7"
  }
 },
 "nbformat": 4,
 "nbformat_minor": 2
}
